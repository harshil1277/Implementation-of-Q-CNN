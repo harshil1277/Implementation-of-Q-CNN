{
  "cells": [
    {
      "cell_type": "code",
      "source": [
        "!pip install pennylane"
      ],
      "metadata": {
        "colab": {
          "base_uri": "https://localhost:8080/"
        },
        "id": "4cZYuIGFK6z8",
        "outputId": "8c33b32d-201f-40ef-fb60-fae45bb90c4b"
      },
      "id": "4cZYuIGFK6z8",
      "execution_count": null,
      "outputs": [
        {
          "output_type": "stream",
          "name": "stdout",
          "text": [
            "Looking in indexes: https://pypi.org/simple, https://us-python.pkg.dev/colab-wheels/public/simple/\n",
            "Requirement already satisfied: pennylane in /usr/local/lib/python3.10/dist-packages (0.29.1)\n",
            "Requirement already satisfied: autoray>=0.3.1 in /usr/local/lib/python3.10/dist-packages (from pennylane) (0.6.3)\n",
            "Requirement already satisfied: semantic-version>=2.7 in /usr/local/lib/python3.10/dist-packages (from pennylane) (2.10.0)\n",
            "Requirement already satisfied: autograd in /usr/local/lib/python3.10/dist-packages (from pennylane) (1.5)\n",
            "Requirement already satisfied: retworkx in /usr/local/lib/python3.10/dist-packages (from pennylane) (0.12.1)\n",
            "Requirement already satisfied: pennylane-lightning>=0.28 in /usr/local/lib/python3.10/dist-packages (from pennylane) (0.29.0)\n",
            "Requirement already satisfied: numpy<1.24 in /usr/local/lib/python3.10/dist-packages (from pennylane) (1.22.4)\n",
            "Requirement already satisfied: networkx in /usr/local/lib/python3.10/dist-packages (from pennylane) (3.1)\n",
            "Requirement already satisfied: requests in /usr/local/lib/python3.10/dist-packages (from pennylane) (2.27.1)\n",
            "Requirement already satisfied: appdirs in /usr/local/lib/python3.10/dist-packages (from pennylane) (1.4.4)\n",
            "Requirement already satisfied: toml in /usr/local/lib/python3.10/dist-packages (from pennylane) (0.10.2)\n",
            "Requirement already satisfied: scipy in /usr/local/lib/python3.10/dist-packages (from pennylane) (1.10.1)\n",
            "Requirement already satisfied: cachetools in /usr/local/lib/python3.10/dist-packages (from pennylane) (5.3.0)\n",
            "Requirement already satisfied: future>=0.15.2 in /usr/local/lib/python3.10/dist-packages (from autograd->pennylane) (0.18.3)\n",
            "Requirement already satisfied: urllib3<1.27,>=1.21.1 in /usr/local/lib/python3.10/dist-packages (from requests->pennylane) (1.26.15)\n",
            "Requirement already satisfied: charset-normalizer~=2.0.0 in /usr/local/lib/python3.10/dist-packages (from requests->pennylane) (2.0.12)\n",
            "Requirement already satisfied: idna<4,>=2.5 in /usr/local/lib/python3.10/dist-packages (from requests->pennylane) (3.4)\n",
            "Requirement already satisfied: certifi>=2017.4.17 in /usr/local/lib/python3.10/dist-packages (from requests->pennylane) (2022.12.7)\n",
            "Requirement already satisfied: rustworkx==0.12.1 in /usr/local/lib/python3.10/dist-packages (from retworkx->pennylane) (0.12.1)\n"
          ]
        }
      ]
    },
    {
      "cell_type": "code",
      "execution_count": null,
      "id": "9a54d735",
      "metadata": {
        "id": "9a54d735"
      },
      "outputs": [],
      "source": [
        "import pennylane as qml\n",
        "from pennylane import numpy as np\n",
        "import tensorflow as tf\n",
        "from pennylane.templates import RandomLayers\n",
        "n_epochs = 30\n",
        "n_qubits=4\n",
        "np.random.seed(0)\n",
        "tf.random.set_seed(0)\n",
        "dev = qml.device(\"default.qubit\", wires=4)\n",
        "params = 2 * np.pi * tf.random.uniform([3,50])"
      ]
    },
    {
      "cell_type": "code",
      "execution_count": null,
      "id": "bb07ac76",
      "metadata": {
        "id": "bb07ac76"
      },
      "outputs": [],
      "source": [
        "def dataset(dataset_no,train_size,test_size):\n",
        "    n_train = train_size\n",
        "    n_test = test_size\n",
        "    if dataset_no==1:\n",
        "        (x_train, y_train), (x_test, y_test) = tf.keras.datasets.mnist.load_data()\n",
        "    elif dataset_no==2:\n",
        "        (x_train, y_train), (x_test, y_test) = tf.keras.datasets.fashion_mnist.load_data()\n",
        "    train_images = x_train[:n_train]\n",
        "    train_labels = y_train[:n_train]\n",
        "    test_images = x_test[:n_test]\n",
        "    test_labels = y_test[:n_test]\n",
        "    train_images = train_images / 255\n",
        "    test_images = test_images / 255\n",
        "    train_images = np.array(train_images[..., tf.newaxis],requires_grad=False)\n",
        "    test_images = np.array(test_images[..., tf.newaxis],requires_grad=False)\n",
        "\n",
        "    return train_images,test_images,train_labels,test_labels"
      ]
    },
    {
      "cell_type": "code",
      "execution_count": null,
      "id": "e8f313ae",
      "metadata": {
        "id": "e8f313ae"
      },
      "outputs": [],
      "source": [
        "dev = qml.device(\"default.qubit\", wires=4)"
      ]
    },
    {
      "cell_type": "code",
      "execution_count": null,
      "id": "a3009b87",
      "metadata": {
        "id": "a3009b87"
      },
      "outputs": [],
      "source": [
        "@qml.qnode(dev)\n",
        "def circuit_1(data,params):\n",
        "    for j in range(n_qubits):\n",
        "        qml.RY(np.pi * data[j], wires=j)\n",
        "\n",
        "    for i in range(n_qubits):\n",
        "        qml.RX(params[1,i], wires=i)\n",
        "    for i in range(n_qubits - 1):\n",
        "        qml.CNOT(wires=[i, i + 1])\n",
        "\n",
        "    for i in range(n_qubits):\n",
        "        qml.RX(params[2,i], wires=i)\n",
        "    for i in range(n_qubits - 1):\n",
        "        qml.CNOT(wires=[i, i + 1])\n",
        "\n",
        "    return [qml.expval(qml.PauliZ(w)) for w in range(4)]\n"
      ]
    },
    {
      "cell_type": "code",
      "execution_count": null,
      "id": "00ac2737",
      "metadata": {
        "id": "00ac2737"
      },
      "outputs": [],
      "source": [
        "@qml.qnode(dev)\n",
        "def circuit_2(data,params):\n",
        "    for j in range(n_qubits):\n",
        "            qml.RX(np.pi * data[j], wires=j)\n",
        "\n",
        "    for j in range(n_qubits):\n",
        "            qml.Rot(params[1,3*j],params[1,3*j+1],params[1,3*j+2], wires=j)\n",
        "    for j in range(0, n_qubits):\n",
        "                if j == 0:\n",
        "                   for i in range(0, n_qubits - 1):\n",
        "                       qml.CZ(wires=[j, i + 1])\n",
        "                elif j == 1:\n",
        "                     qml.CZ(wires=[j, j - 1])\n",
        "                     for i in range(0, n_qubits - 2):\n",
        "                         qml.CZ(wires=[j, i + 2])\n",
        "\n",
        "                elif j == 2:\n",
        "                     qml.CZ(wires=[j, j + 1])\n",
        "                     for i in range(n_qubits - 1, 1, -1):\n",
        "                         qml.CZ(wires=[j, i - 2])\n",
        "                elif j == 3:\n",
        "                     for i in range(n_qubits - 1, 0, -1):\n",
        "                         qml.CZ(wires=[j, i - 1])\n",
        "\n",
        "\n",
        "    for j in range(n_qubits):\n",
        "            qml.Rot(params[2,3*j],params[2,3*j+1],params[2,3*j+2], wires=j)\n",
        "\n",
        "    for j in range(0, n_qubits):\n",
        "\n",
        "                if j == 0:\n",
        "                   for i in range(0, n_qubits - 1):\n",
        "                       qml.CZ(wires=[j, i + 1])\n",
        "                elif j == 1:\n",
        "                     qml.CZ(wires=[j, j - 1])\n",
        "                     for i in range(0, n_qubits - 2):\n",
        "                         qml.CZ(wires=[j, i + 2])\n",
        "\n",
        "                elif j == 2:\n",
        "                     qml.CZ(wires=[j, j + 1])\n",
        "                     for i in range(n_qubits - 1, 1, -1):\n",
        "                         qml.CZ(wires=[j, i - 2])\n",
        "                elif j == 3:\n",
        "                     for i in range(n_qubits - 1, 0, -1):\n",
        "                         qml.CZ(wires=[j, i - 1])\n",
        "\n",
        "    return [qml.expval(qml.PauliZ(w)) for w in range(4)]"
      ]
    },
    {
      "cell_type": "code",
      "execution_count": null,
      "id": "b36e1e8e",
      "metadata": {
        "id": "b36e1e8e"
      },
      "outputs": [],
      "source": [
        "\n",
        "@qml.qnode(dev)\n",
        "def circuit_3(data,params):\n",
        "    for i in range(0, n_qubits):\n",
        "        qml.RY(np.pi * data[i], wires=i)\n",
        "\n",
        "    for i in range(0, n_qubits):\n",
        "        qml.RX(params[1,i], wires=i)\n",
        "        qml.RZ(params[1,i], wires=i)\n",
        "    qml.CRX(params[1,n_qubits], wires=[n_qubits - 1, 0])\n",
        "    for i in range(n_qubits - 1, 0, -1):\n",
        "        qml.CRX(params[1,n_qubits+i], wires=[i - 1, i])\n",
        "\n",
        "    for i in range(0, n_qubits):\n",
        "        qml.RX(params[2,i], wires=i)\n",
        "        qml.RZ(params[2,i], wires=i)\n",
        "    qml.CRX(params[2,n_qubits], wires=[n_qubits - 1, 0])\n",
        "    for i in range(n_qubits - 1, 0, -1):\n",
        "        qml.CRX(params[2,n_qubits+i], wires=[i - 1, i])\n",
        "\n",
        "    return [qml.expval(qml.PauliZ(w)) for w in range(4)]"
      ]
    },
    {
      "cell_type": "code",
      "execution_count": null,
      "id": "d359fe72",
      "metadata": {
        "id": "d359fe72"
      },
      "outputs": [],
      "source": [
        "\n",
        "@qml.qnode(dev)\n",
        "def circuit_4(data,params):\n",
        "    for i in range(0, n_qubits):\n",
        "        qml.RY(np.pi * data[i], wires=i)\n",
        "\n",
        "\n",
        "    for i in range(0, n_qubits):\n",
        "        qml.RX(params[1,i], wires=i)\n",
        "        qml.RZ(params[1,i], wires=i)\n",
        "\n",
        "    for i in range(0,n_qubits - 1,2):\n",
        "        qml.CRX(params[1,i], wires=[i, i+1])\n",
        "\n",
        "    for i in range(0, n_qubits):\n",
        "        qml.RX(params[1,i], wires=i)\n",
        "        qml.RZ(params[1,i], wires=i)\n",
        "\n",
        "    for i in range(1,n_qubits - 1,2):\n",
        "        qml.CRX(params[1,i], wires=[i, i+1])\n",
        "\n",
        "    for i in range(0, n_qubits):\n",
        "        qml.RX(params[2,i], wires=i)\n",
        "        qml.RZ(params[2,i], wires=i)\n",
        "\n",
        "    for i in range(0,n_qubits - 1,2):\n",
        "        qml.CRX(params[2,i], wires=[i, i+1])\n",
        "\n",
        "    for i in range(0, n_qubits):\n",
        "        qml.RX(params[2,i], wires=i)\n",
        "        qml.RZ(params[2,i], wires=i)\n",
        "\n",
        "    for i in range(1,n_qubits - 1,2):\n",
        "        qml.CRX(params[2,i], wires=[i, i+1])\n",
        "\n",
        "    return [qml.expval(qml.PauliZ(w)) for w in range(4)]\n",
        ""
      ]
    },
    {
      "cell_type": "code",
      "execution_count": null,
      "id": "249559ee",
      "metadata": {
        "id": "249559ee"
      },
      "outputs": [],
      "source": [
        "\n",
        "@qml.qnode(dev)\n",
        "def circuit_5(data,params):\n",
        "    for j in range(n_qubits):\n",
        "        qml.RY(np.pi*data[j], wires=j)\n",
        "\n",
        "    for j in range(0, n_qubits):\n",
        "        qml.U3(params[1,j], params[1,j + 1], params[1,j + 2], wires=j)\n",
        "    for i in range(0, n_qubits - 1):\n",
        "        qml.CNOT(wires=[i, i + 1])\n",
        "    for j in range(0, int(n_qubits / 2)):\n",
        "        qml.RY(params[1,j], wires=2 * j)\n",
        "        qml.RZ(params[1,j], wires=2 * j + 1)\n",
        "    for i in range(0, n_qubits - 1):\n",
        "        qml.CNOT(wires=[i,i+1])\n",
        "    for j in range(0, int(n_qubits / 2)):\n",
        "        qml.RY(params[1,j], wires=2 * j)\n",
        "    for i in range(0, n_qubits - 1):\n",
        "        qml.CNOT(wires=[i, i + 1])\n",
        "    for j in range(0, n_qubits):\n",
        "        qml.U3(params[2,j], params[2,j + 1], params[2,j + 2], wires=j)\n",
        "\n",
        "    return [qml.expval(qml.PauliZ(w)) for w in range(4)]"
      ]
    },
    {
      "cell_type": "code",
      "execution_count": null,
      "id": "dd20f9d2",
      "metadata": {
        "id": "dd20f9d2"
      },
      "outputs": [],
      "source": [
        "\n",
        "@qml.qnode(dev)\n",
        "def circuit_6(data,params):\n",
        "    for j in range(n_qubits):\n",
        "        qml.RY(np.pi*data[j], wires=j)\n",
        "\n",
        "    for idx in range(n_qubits):\n",
        "        qml.Hadamard(wires=idx)\n",
        "    for i in range(n_qubits-1,0,-1):\n",
        "        qml.CZ(wires=[i,i-1])\n",
        "    for i in range(0, n_qubits):\n",
        "        qml.RX(params[1,i], wires=i)\n",
        "\n",
        "\n",
        "    for idx in range(n_qubits):\n",
        "        qml.Hadamard(wires=idx)\n",
        "    for i in range(n_qubits-1,0,-1):\n",
        "        qml.CZ(wires=[i,i-1])\n",
        "    for i in range(0, n_qubits):\n",
        "        qml.RX(params[2,i], wires=i)\n",
        "\n",
        "    return [qml.expval(qml.PauliZ(w)) for w in range(4)]\n",
        ""
      ]
    },
    {
      "cell_type": "code",
      "execution_count": null,
      "id": "c5a38ee5",
      "metadata": {
        "id": "c5a38ee5"
      },
      "outputs": [],
      "source": [
        "def quanv(image,circuit_no):\n",
        "    \"\"\"Convolves the input image with many applications of the same quantum circuit.\"\"\"\n",
        "    out = np.zeros((14, 14, 4))\n",
        "    if circuit_no==1:\n",
        "        for j in range(0, 28, 2):\n",
        "            for k in range(0, 28, 2):\n",
        "                q_results = circuit_1(\n",
        "                [\n",
        "                    image[j, k, 0],\n",
        "                    image[j, k + 1, 0],\n",
        "                    image[j + 1, k, 0],\n",
        "                    image[j + 1, k + 1, 0]\n",
        "                ],params)\n",
        "                for i in range(4):\n",
        "                    out[j // 2, k // 2, i] = q_results[i]\n",
        "\n",
        "    elif circuit_no==2:\n",
        "         for j in range(0, 28, 2):\n",
        "            for k in range(0, 28, 2):\n",
        "                q_results = circuit_2(\n",
        "                [\n",
        "                    image[j, k, 0],\n",
        "                    image[j, k + 1, 0],\n",
        "                    image[j + 1, k, 0],\n",
        "                    image[j + 1, k + 1, 0]\n",
        "                ],params)\n",
        "                for i in range(4):\n",
        "                    out[j // 2, k // 2, i] = q_results[i]\n",
        "\n",
        "    elif circuit_no==3:\n",
        "\n",
        "         for j in range(0, 28, 2):\n",
        "            for k in range(0, 28, 2):\n",
        "                q_results = circuit_3(\n",
        "                [\n",
        "                    image[j, k, 0],\n",
        "                    image[j, k + 1, 0],\n",
        "                    image[j + 1, k, 0],\n",
        "                    image[j + 1, k + 1, 0]\n",
        "                ],params)\n",
        "                for i in range(4):\n",
        "                    out[j // 2, k // 2, i] = q_results[i]\n",
        "\n",
        "    elif circuit_no==4:\n",
        "\n",
        "        for j in range(0, 28, 2):\n",
        "            for k in range(0, 28, 2):\n",
        "                q_results = circuit_4(\n",
        "                [\n",
        "                    image[j, k, 0],\n",
        "                    image[j, k + 1, 0],\n",
        "                    image[j + 1, k, 0],\n",
        "                    image[j + 1, k + 1, 0]\n",
        "                ],params)\n",
        "                for i in range(4):\n",
        "                    out[j // 2, k // 2, i] = q_results[i]\n",
        "\n",
        "    elif circuit_no==5:\n",
        "\n",
        "        for j in range(0, 28, 2):\n",
        "            for k in range(0, 28, 2):\n",
        "                q_results = circuit_5(\n",
        "                [\n",
        "                    image[j, k, 0],\n",
        "                    image[j, k + 1, 0],\n",
        "                    image[j + 1, k, 0],\n",
        "                    image[j + 1, k + 1, 0]\n",
        "                ],params)\n",
        "\n",
        "                for i in range(4):\n",
        "                    out[j // 2, k // 2, i] = q_results[i]\n",
        "\n",
        "\n",
        "    elif circuit_no==6:\n",
        "        for j in range(0, 28, 2):\n",
        "            for k in range(0, 28, 2):\n",
        "                q_results = circuit_6(\n",
        "                [\n",
        "                    image[j, k, 0],\n",
        "                    image[j, k + 1, 0],\n",
        "                    image[j + 1, k, 0],\n",
        "                    image[j + 1, k + 1, 0]\n",
        "                ],params)\n",
        "\n",
        "                for i in range(4):\n",
        "                    out[j // 2, k // 2, i] = q_results[i]\n",
        "\n",
        "\n",
        "    return out\n",
        ""
      ]
    },
    {
      "cell_type": "code",
      "execution_count": null,
      "id": "7e612359",
      "metadata": {
        "id": "7e612359"
      },
      "outputs": [],
      "source": [
        "train_images,test_images,train_labels,test_labels=dataset(2,250,60)"
      ]
    },
    {
      "cell_type": "code",
      "execution_count": null,
      "id": "f75ef66b",
      "metadata": {
        "colab": {
          "base_uri": "https://localhost:8080/"
        },
        "id": "f75ef66b",
        "outputId": "a0b9d44c-541d-47ed-cfca-3bffabcc6f9c"
      },
      "outputs": [
        {
          "output_type": "stream",
          "name": "stdout",
          "text": [
            "Quantum pre-processing of train images:\n",
            "1/250        \r"
          ]
        },
        {
          "output_type": "stream",
          "name": "stderr",
          "text": [
            "/usr/local/lib/python3.10/dist-packages/pennylane/math/utils.py:223: UserWarning: Contains tensors of types {'autograd', 'tensorflow'}; dispatch will prioritize TensorFlow, PyTorch, and  Jax over Autograd. Consider replacing Autograd with vanilla NumPy.\n",
            "  warnings.warn(\n"
          ]
        },
        {
          "output_type": "stream",
          "name": "stdout",
          "text": [
            "\n",
            "Quantum pre-processing of test images:\n"
          ]
        }
      ],
      "source": [
        "\n",
        "q_train_images = []\n",
        "print(\"Quantum pre-processing of train images:\")\n",
        "for idx, img in enumerate(train_images):\n",
        "    print(\"{}/{}        \".format(idx + 1, 250), end=\"\\r\")\n",
        "    q_train_images.append(quanv(img,3)) #please select the circuit number\n",
        "q_train_images = np.asarray(q_train_images)\n",
        "\n",
        "q_test_images = []\n",
        "print(\"\\nQuantum pre-processing of test images:\")\n",
        "for idx, img in enumerate(test_images):\n",
        "    print(\"{}/{}        \".format(idx + 1, 60), end=\"\\r\")\n",
        "    q_test_images.append(quanv(img,3))\n",
        "q_test_images = np.asarray(q_test_images)\n",
        "\n"
      ]
    },
    {
      "cell_type": "code",
      "execution_count": null,
      "id": "b583a754",
      "metadata": {
        "id": "b583a754"
      },
      "outputs": [],
      "source": [
        "\n",
        "\n",
        "model = tf.keras.models.Sequential([\n",
        "        tf.keras.layers.MaxPooling2D(pool_size=(2, 2),strides=(1, 1), padding='same'),\n",
        "        tf.keras.layers.Flatten(),\n",
        "        tf.keras.layers.Dense(64, activation=\"relu\"),\n",
        "        tf.keras.layers.Dropout(0.4),\n",
        "        tf.keras.layers.Dense(10, activation=\"softmax\")\n",
        "    ])\n",
        "\n",
        "opt=tf.keras.optimizers.Adam(learning_rate=0.01)\n",
        "\n",
        "\n",
        "model.compile(\n",
        "        optimizer=opt,\n",
        "        loss=\"sparse_categorical_crossentropy\",\n",
        "        metrics=[\"accuracy\"],)\n",
        "\n"
      ]
    },
    {
      "cell_type": "code",
      "execution_count": null,
      "id": "5c7a84e7",
      "metadata": {
        "id": "5c7a84e7"
      },
      "outputs": [],
      "source": [
        "model1 = tf.keras.models.Sequential([\n",
        "        tf.keras.layers.Conv2D(filters=4, kernel_size=(2,2),input_shape=(28,28,1),activation='relu'),\n",
        "        tf.keras.layers.Conv2D(filters=4, kernel_size=(2,2),activation='relu'),\n",
        "        tf.keras.layers.MaxPooling2D(pool_size=(2, 2),strides=(1, 1), padding='same'),\n",
        "        #tf.keras.layers.Conv2D(filters=4, kernel_size=(2,2),activation='relu'),\n",
        "        tf.keras.layers.Flatten(),\n",
        "        tf.keras.layers.Dense(64, activation=\"relu\"),\n",
        "        tf.keras.layers.Dropout(0.4),\n",
        "        tf.keras.layers.Dense(10, activation=\"softmax\")\n",
        "    ])\n",
        "opt=tf.keras.optimizers.Adam(learning_rate=0.01)\n",
        "model1.compile(\n",
        "        optimizer=opt,\n",
        "        loss=\"sparse_categorical_crossentropy\",\n",
        "        metrics=[\"accuracy\"],)"
      ]
    },
    {
      "cell_type": "code",
      "execution_count": null,
      "id": "75fb1a71",
      "metadata": {
        "id": "75fb1a71",
        "colab": {
          "base_uri": "https://localhost:8080/"
        },
        "outputId": "51887003-451f-4c87-cc41-c0dc76c4b16d"
      },
      "outputs": [
        {
          "output_type": "stream",
          "name": "stdout",
          "text": [
            "Epoch 1/30\n",
            "16/16 - 1s - loss: 2.5121 - accuracy: 0.1280 - val_loss: 1.9772 - val_accuracy: 0.1333 - 1s/epoch - 71ms/step\n",
            "Epoch 2/30\n",
            "16/16 - 0s - loss: 1.8520 - accuracy: 0.2040 - val_loss: 1.6057 - val_accuracy: 0.3833 - 82ms/epoch - 5ms/step\n",
            "Epoch 3/30\n",
            "16/16 - 0s - loss: 1.6770 - accuracy: 0.2920 - val_loss: 1.4695 - val_accuracy: 0.4833 - 72ms/epoch - 5ms/step\n",
            "Epoch 4/30\n",
            "16/16 - 0s - loss: 1.5454 - accuracy: 0.3760 - val_loss: 1.4534 - val_accuracy: 0.4500 - 82ms/epoch - 5ms/step\n",
            "Epoch 5/30\n",
            "16/16 - 0s - loss: 1.4486 - accuracy: 0.4080 - val_loss: 1.2500 - val_accuracy: 0.5833 - 65ms/epoch - 4ms/step\n",
            "Epoch 6/30\n",
            "16/16 - 0s - loss: 1.4240 - accuracy: 0.4240 - val_loss: 1.3055 - val_accuracy: 0.5167 - 80ms/epoch - 5ms/step\n",
            "Epoch 7/30\n",
            "16/16 - 0s - loss: 1.3085 - accuracy: 0.4320 - val_loss: 1.3172 - val_accuracy: 0.5167 - 74ms/epoch - 5ms/step\n",
            "Epoch 8/30\n",
            "16/16 - 0s - loss: 1.3879 - accuracy: 0.4360 - val_loss: 1.1952 - val_accuracy: 0.5000 - 69ms/epoch - 4ms/step\n",
            "Epoch 9/30\n",
            "16/16 - 0s - loss: 1.3526 - accuracy: 0.4480 - val_loss: 1.1434 - val_accuracy: 0.5833 - 77ms/epoch - 5ms/step\n",
            "Epoch 10/30\n",
            "16/16 - 0s - loss: 1.2638 - accuracy: 0.4760 - val_loss: 1.1516 - val_accuracy: 0.5833 - 67ms/epoch - 4ms/step\n",
            "Epoch 11/30\n",
            "16/16 - 0s - loss: 1.2740 - accuracy: 0.4760 - val_loss: 1.1069 - val_accuracy: 0.6167 - 81ms/epoch - 5ms/step\n",
            "Epoch 12/30\n",
            "16/16 - 0s - loss: 1.2910 - accuracy: 0.4640 - val_loss: 1.0995 - val_accuracy: 0.6000 - 76ms/epoch - 5ms/step\n",
            "Epoch 13/30\n",
            "16/16 - 0s - loss: 1.1239 - accuracy: 0.5480 - val_loss: 1.1723 - val_accuracy: 0.5500 - 85ms/epoch - 5ms/step\n",
            "Epoch 14/30\n",
            "16/16 - 0s - loss: 1.1708 - accuracy: 0.5200 - val_loss: 1.0762 - val_accuracy: 0.6333 - 80ms/epoch - 5ms/step\n",
            "Epoch 15/30\n",
            "16/16 - 0s - loss: 1.2041 - accuracy: 0.5120 - val_loss: 1.0414 - val_accuracy: 0.6667 - 79ms/epoch - 5ms/step\n",
            "Epoch 16/30\n",
            "16/16 - 0s - loss: 1.1784 - accuracy: 0.4960 - val_loss: 1.2292 - val_accuracy: 0.5167 - 67ms/epoch - 4ms/step\n",
            "Epoch 17/30\n",
            "16/16 - 0s - loss: 1.1405 - accuracy: 0.5200 - val_loss: 1.1892 - val_accuracy: 0.5000 - 67ms/epoch - 4ms/step\n",
            "Epoch 18/30\n",
            "16/16 - 0s - loss: 1.1925 - accuracy: 0.5000 - val_loss: 1.1298 - val_accuracy: 0.5833 - 81ms/epoch - 5ms/step\n",
            "Epoch 19/30\n",
            "16/16 - 0s - loss: 1.1069 - accuracy: 0.5360 - val_loss: 1.1243 - val_accuracy: 0.6167 - 84ms/epoch - 5ms/step\n",
            "Epoch 20/30\n",
            "16/16 - 0s - loss: 0.9771 - accuracy: 0.6160 - val_loss: 1.1298 - val_accuracy: 0.5833 - 81ms/epoch - 5ms/step\n",
            "Epoch 21/30\n",
            "16/16 - 0s - loss: 1.0568 - accuracy: 0.5680 - val_loss: 1.2237 - val_accuracy: 0.5667 - 92ms/epoch - 6ms/step\n",
            "Epoch 22/30\n",
            "16/16 - 0s - loss: 1.2115 - accuracy: 0.5240 - val_loss: 1.3430 - val_accuracy: 0.5333 - 67ms/epoch - 4ms/step\n",
            "Epoch 23/30\n",
            "16/16 - 0s - loss: 1.1177 - accuracy: 0.5320 - val_loss: 1.4667 - val_accuracy: 0.5167 - 66ms/epoch - 4ms/step\n",
            "Epoch 24/30\n",
            "16/16 - 0s - loss: 1.0708 - accuracy: 0.5600 - val_loss: 1.1577 - val_accuracy: 0.6000 - 78ms/epoch - 5ms/step\n",
            "Epoch 25/30\n",
            "16/16 - 0s - loss: 1.0961 - accuracy: 0.5200 - val_loss: 1.2125 - val_accuracy: 0.5833 - 88ms/epoch - 5ms/step\n",
            "Epoch 26/30\n",
            "16/16 - 0s - loss: 1.0297 - accuracy: 0.5560 - val_loss: 1.1866 - val_accuracy: 0.5667 - 81ms/epoch - 5ms/step\n",
            "Epoch 27/30\n",
            "16/16 - 0s - loss: 1.1578 - accuracy: 0.5400 - val_loss: 1.1478 - val_accuracy: 0.5500 - 66ms/epoch - 4ms/step\n",
            "Epoch 28/30\n",
            "16/16 - 0s - loss: 1.1216 - accuracy: 0.5760 - val_loss: 1.2226 - val_accuracy: 0.5333 - 67ms/epoch - 4ms/step\n",
            "Epoch 29/30\n",
            "16/16 - 0s - loss: 1.0356 - accuracy: 0.5600 - val_loss: 1.2214 - val_accuracy: 0.6667 - 71ms/epoch - 4ms/step\n",
            "Epoch 30/30\n",
            "16/16 - 0s - loss: 1.0435 - accuracy: 0.5640 - val_loss: 1.2337 - val_accuracy: 0.5500 - 79ms/epoch - 5ms/step\n"
          ]
        }
      ],
      "source": [
        "q_history = model.fit(q_train_images,train_labels,validation_data=(q_test_images, test_labels),batch_size=16,epochs=n_epochs,verbose=2)"
      ]
    },
    {
      "cell_type": "code",
      "execution_count": null,
      "id": "caca8e2e",
      "metadata": {
        "id": "caca8e2e",
        "colab": {
          "base_uri": "https://localhost:8080/"
        },
        "outputId": "6a787e05-7010-4407-90d4-d9744cbf551a"
      },
      "outputs": [
        {
          "output_type": "stream",
          "name": "stdout",
          "text": [
            "Epoch 1/30\n",
            "16/16 - 1s - loss: 1.8374 - accuracy: 0.3680 - val_loss: 1.2557 - val_accuracy: 0.6000 - 1s/epoch - 83ms/step\n",
            "Epoch 2/30\n",
            "16/16 - 0s - loss: 0.8479 - accuracy: 0.7120 - val_loss: 1.2996 - val_accuracy: 0.5833 - 343ms/epoch - 21ms/step\n",
            "Epoch 3/30\n",
            "16/16 - 0s - loss: 0.6179 - accuracy: 0.7840 - val_loss: 1.2356 - val_accuracy: 0.6500 - 382ms/epoch - 24ms/step\n",
            "Epoch 4/30\n",
            "16/16 - 0s - loss: 0.4698 - accuracy: 0.8320 - val_loss: 1.2674 - val_accuracy: 0.6167 - 393ms/epoch - 25ms/step\n",
            "Epoch 5/30\n",
            "16/16 - 0s - loss: 0.4162 - accuracy: 0.8400 - val_loss: 1.5004 - val_accuracy: 0.6833 - 385ms/epoch - 24ms/step\n",
            "Epoch 6/30\n",
            "16/16 - 0s - loss: 0.3344 - accuracy: 0.8640 - val_loss: 1.4610 - val_accuracy: 0.6500 - 384ms/epoch - 24ms/step\n",
            "Epoch 7/30\n",
            "16/16 - 0s - loss: 0.3085 - accuracy: 0.8840 - val_loss: 1.6354 - val_accuracy: 0.6833 - 372ms/epoch - 23ms/step\n",
            "Epoch 8/30\n",
            "16/16 - 0s - loss: 0.2496 - accuracy: 0.8920 - val_loss: 1.7389 - val_accuracy: 0.6833 - 352ms/epoch - 22ms/step\n",
            "Epoch 9/30\n",
            "16/16 - 0s - loss: 0.2157 - accuracy: 0.9400 - val_loss: 1.8824 - val_accuracy: 0.6333 - 380ms/epoch - 24ms/step\n",
            "Epoch 10/30\n",
            "16/16 - 0s - loss: 0.1699 - accuracy: 0.9480 - val_loss: 2.2731 - val_accuracy: 0.6833 - 389ms/epoch - 24ms/step\n",
            "Epoch 11/30\n",
            "16/16 - 0s - loss: 0.1610 - accuracy: 0.9560 - val_loss: 2.2419 - val_accuracy: 0.7000 - 395ms/epoch - 25ms/step\n",
            "Epoch 12/30\n",
            "16/16 - 0s - loss: 0.1544 - accuracy: 0.9360 - val_loss: 2.3974 - val_accuracy: 0.6833 - 370ms/epoch - 23ms/step\n",
            "Epoch 13/30\n",
            "16/16 - 0s - loss: 0.1379 - accuracy: 0.9600 - val_loss: 2.3128 - val_accuracy: 0.6833 - 294ms/epoch - 18ms/step\n",
            "Epoch 14/30\n",
            "16/16 - 0s - loss: 0.1382 - accuracy: 0.9560 - val_loss: 2.6292 - val_accuracy: 0.7000 - 223ms/epoch - 14ms/step\n",
            "Epoch 15/30\n",
            "16/16 - 0s - loss: 0.0899 - accuracy: 0.9680 - val_loss: 2.2460 - val_accuracy: 0.7000 - 205ms/epoch - 13ms/step\n",
            "Epoch 16/30\n",
            "16/16 - 0s - loss: 0.1396 - accuracy: 0.9520 - val_loss: 2.5231 - val_accuracy: 0.7167 - 198ms/epoch - 12ms/step\n",
            "Epoch 17/30\n",
            "16/16 - 0s - loss: 0.1678 - accuracy: 0.9360 - val_loss: 2.2594 - val_accuracy: 0.6833 - 214ms/epoch - 13ms/step\n",
            "Epoch 18/30\n",
            "16/16 - 0s - loss: 0.1823 - accuracy: 0.9440 - val_loss: 2.5522 - val_accuracy: 0.6833 - 216ms/epoch - 13ms/step\n",
            "Epoch 19/30\n",
            "16/16 - 0s - loss: 0.1630 - accuracy: 0.9440 - val_loss: 2.4440 - val_accuracy: 0.7000 - 217ms/epoch - 14ms/step\n",
            "Epoch 20/30\n",
            "16/16 - 0s - loss: 0.1874 - accuracy: 0.9360 - val_loss: 2.4543 - val_accuracy: 0.6833 - 206ms/epoch - 13ms/step\n",
            "Epoch 21/30\n",
            "16/16 - 0s - loss: 0.1451 - accuracy: 0.9480 - val_loss: 2.4747 - val_accuracy: 0.7167 - 214ms/epoch - 13ms/step\n",
            "Epoch 22/30\n",
            "16/16 - 0s - loss: 0.1583 - accuracy: 0.9600 - val_loss: 2.8261 - val_accuracy: 0.7000 - 222ms/epoch - 14ms/step\n",
            "Epoch 23/30\n",
            "16/16 - 0s - loss: 0.0692 - accuracy: 0.9800 - val_loss: 2.9072 - val_accuracy: 0.6500 - 199ms/epoch - 12ms/step\n",
            "Epoch 24/30\n",
            "16/16 - 0s - loss: 0.1027 - accuracy: 0.9600 - val_loss: 3.1120 - val_accuracy: 0.7167 - 211ms/epoch - 13ms/step\n",
            "Epoch 25/30\n",
            "16/16 - 0s - loss: 0.1052 - accuracy: 0.9600 - val_loss: 2.9068 - val_accuracy: 0.6833 - 198ms/epoch - 12ms/step\n",
            "Epoch 26/30\n",
            "16/16 - 0s - loss: 0.1335 - accuracy: 0.9520 - val_loss: 2.4788 - val_accuracy: 0.7000 - 205ms/epoch - 13ms/step\n",
            "Epoch 27/30\n",
            "16/16 - 0s - loss: 0.2112 - accuracy: 0.9480 - val_loss: 2.3272 - val_accuracy: 0.7000 - 205ms/epoch - 13ms/step\n",
            "Epoch 28/30\n",
            "16/16 - 0s - loss: 0.0757 - accuracy: 0.9680 - val_loss: 2.0729 - val_accuracy: 0.7167 - 212ms/epoch - 13ms/step\n",
            "Epoch 29/30\n",
            "16/16 - 0s - loss: 0.1141 - accuracy: 0.9600 - val_loss: 2.6457 - val_accuracy: 0.7333 - 196ms/epoch - 12ms/step\n",
            "Epoch 30/30\n",
            "16/16 - 0s - loss: 0.0456 - accuracy: 0.9800 - val_loss: 2.7957 - val_accuracy: 0.7167 - 202ms/epoch - 13ms/step\n"
          ]
        }
      ],
      "source": [
        "c_history = model1.fit(train_images,train_labels,validation_data=(test_images, test_labels),batch_size=16,epochs=n_epochs,verbose=2)"
      ]
    }
  ],
  "metadata": {
    "kernelspec": {
      "display_name": "Python 3",
      "language": "python",
      "name": "python3"
    },
    "language_info": {
      "codemirror_mode": {
        "name": "ipython",
        "version": 3
      },
      "file_extension": ".py",
      "mimetype": "text/x-python",
      "name": "python",
      "nbconvert_exporter": "python",
      "pygments_lexer": "ipython3",
      "version": "3.8.10"
    },
    "colab": {
      "provenance": []
    }
  },
  "nbformat": 4,
  "nbformat_minor": 5
}